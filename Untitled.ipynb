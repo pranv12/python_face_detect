{
 "cells": [
  {
   "cell_type": "code",
   "execution_count": 1,
   "metadata": {},
   "outputs": [],
   "source": [
    "import numpy as np\n",
    "import cv2\n",
    "import os"
   ]
  },
  {
   "cell_type": "code",
   "execution_count": 2,
   "metadata": {},
   "outputs": [
    {
     "data": {
      "text/plain": [
       "'4.1.1'"
      ]
     },
     "execution_count": 2,
     "metadata": {},
     "output_type": "execute_result"
    }
   ],
   "source": [
    "cv2.__version__"
   ]
  },
  {
   "cell_type": "code",
   "execution_count": 3,
   "metadata": {},
   "outputs": [
    {
     "name": "stdout",
     "output_type": "stream",
     "text": [
      "Data is stored. True True\n"
     ]
    }
   ],
   "source": [
    "face_cascade = cv2.CascadeClassifier(cv2.data.haarcascades + \"haarcascade_frontalface_default.xml\")\n",
    "\n",
    "#training path\n",
    "data_path = 'C:/Users/prana/Desktop/practice/python_face_detect/data'\n",
    "\n",
    "#Flag\n",
    "status = False\n",
    "#getID\n",
    "iD = 0\n",
    "\n",
    "cap = cv2.VideoCapture(0,cv2.CAP_DSHOW)\n",
    "while 1:\n",
    "    ret, img = cap.read()\n",
    "    gray = cv2.cvtColor(img, cv2.COLOR_BGR2GRAY)\n",
    "    faces = face_cascade.detectMultiScale(gray, 1.3, 5,)\n",
    "\n",
    "    for (x,y,w,h) in faces:\n",
    "        cv2.rectangle(img,(x,y),(x+w,y+h),(255,0,0),2)\n",
    "        state1 = cv2.imwrite(os.path.join(data_path ,f'ID{iD}_faces.jpg'), img)\n",
    "        roi_color = img[y:y + h, x:x + w]\n",
    "        status = cv2.imwrite(os.path.join(data_path ,f'ID{iD}_faces_roi.jpg'), roi_color)\n",
    "\n",
    "    k = cv2.waitKey(3) & 0xff\n",
    "    if k == ord('c'):\n",
    "        #for (x,y,w,h) in faces:\n",
    "        #    cv2.rectangle(img,(x,y),(x+w,y+h),(255,0,0),2)   \n",
    "        break\n",
    "    cv2.putText(img,'Press \" c \" to capture ', (50,100),cv2.FONT_HERSHEY_DUPLEX,0.5,(255,0,0),1)\n",
    "    cv2.imshow('img',img)\n",
    "cap.release()\n",
    "cv2.destroyAllWindows()\n",
    "\n",
    "if status == False:\n",
    "    #self.rollback(iD)\n",
    "    pass\n",
    "print(\"Data is stored.\", status, state1)"
   ]
  },
  {
   "cell_type": "code",
   "execution_count": null,
   "metadata": {},
   "outputs": [],
   "source": []
  }
 ],
 "metadata": {
  "kernelspec": {
   "display_name": "Python 3",
   "language": "python",
   "name": "python3"
  },
  "language_info": {
   "codemirror_mode": {
    "name": "ipython",
    "version": 3
   },
   "file_extension": ".py",
   "mimetype": "text/x-python",
   "name": "python",
   "nbconvert_exporter": "python",
   "pygments_lexer": "ipython3",
   "version": "3.7.5"
  }
 },
 "nbformat": 4,
 "nbformat_minor": 2
}
